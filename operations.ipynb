{
 "cells": [
  {
   "cell_type": "code",
   "execution_count": 30,
   "id": "63808f68",
   "metadata": {},
   "outputs": [],
   "source": [
    "import numpy as np"
   ]
  },
  {
   "cell_type": "code",
   "execution_count": 39,
   "id": "193643e9",
   "metadata": {},
   "outputs": [
    {
     "name": "stdout",
     "output_type": "stream",
     "text": [
      "[ 1  2  3  4  5  6  7  8  9 10] \n",
      " \n",
      " [[ 1  2]\n",
      " [ 3  4]\n",
      " [ 5  6]\n",
      " [ 7  8]\n",
      " [ 9 10]]\n"
     ]
    }
   ],
   "source": [
    "v1 = np.arange(1,11,1)\n",
    "m1 = np.arange(1,11,1).reshape(-1,2)\n",
    "print(f\"{v1} \\n \\n {m1}\")"
   ]
  },
  {
   "cell_type": "code",
   "execution_count": 32,
   "id": "fdb605e5",
   "metadata": {},
   "outputs": [
    {
     "name": "stdout",
     "output_type": "stream",
     "text": [
      "[11 12 13 14 15 16 17 18 19 20] \n",
      " \n",
      " [[11 12]\n",
      " [13 14]\n",
      " [15 16]\n",
      " [17 18]\n",
      " [19 20]]\n"
     ]
    }
   ],
   "source": [
    "v2 = np.arange(11,21,1)\n",
    "m2 = np.arange(11,21,1).reshape(-1,2)\n",
    "print(f\"{v2} \\n \\n {m2}\")"
   ]
  },
  {
   "cell_type": "code",
   "execution_count": 33,
   "id": "1c9e2e0a",
   "metadata": {},
   "outputs": [
    {
     "name": "stdout",
     "output_type": "stream",
     "text": [
      "Producto punto: 935\n"
     ]
    }
   ],
   "source": [
    "producto_punto = np.dot(v1, v2)\n",
    "print('Producto punto:', producto_punto)"
   ]
  },
  {
   "cell_type": "code",
   "execution_count": 34,
   "id": "5d0badbb",
   "metadata": {},
   "outputs": [
    {
     "name": "stdout",
     "output_type": "stream",
     "text": [
      "Norma del vector: 19.621416870348583\n"
     ]
    }
   ],
   "source": [
    "norma = np.linalg.norm(v1)\n",
    "print('Norma del vector:', norma)"
   ]
  },
  {
   "cell_type": "code",
   "execution_count": 35,
   "id": "ee2527d0",
   "metadata": {},
   "outputs": [
    {
     "name": "stdout",
     "output_type": "stream",
     "text": [
      "Prducto de dos vectores: 935\n"
     ]
    }
   ],
   "source": [
    "prod = v1@v2\n",
    "print('Prducto de dos vectores:', prod)"
   ]
  },
  {
   "cell_type": "code",
   "execution_count": 41,
   "id": "41008fbf",
   "metadata": {},
   "outputs": [
    {
     "name": "stdout",
     "output_type": "stream",
     "text": [
      "Prducto de dos matrices: \n",
      " [[ 35  41  47  53  59]\n",
      " [ 81  95 109 123 137]\n",
      " [127 149 171 193 215]\n",
      " [173 203 233 263 293]\n",
      " [219 257 295 333 371]]\n"
     ]
    }
   ],
   "source": [
    "prod = m1@m2.T\n",
    "print('Prducto de dos matrices: \\n', prod)"
   ]
  },
  {
   "cell_type": "code",
   "execution_count": 42,
   "id": "83ea30d9",
   "metadata": {},
   "outputs": [
    {
     "name": "stdout",
     "output_type": "stream",
     "text": [
      "Media: 5.5\n",
      "Mediana: 2.0\n"
     ]
    }
   ],
   "source": [
    "media = np.mean(v1)\n",
    "mediana = np.median(2)\n",
    "print('Media:', media)\n",
    "print('Mediana:', mediana)"
   ]
  }
 ],
 "metadata": {
  "kernelspec": {
   "display_name": "ScikitLearn (3.13.7)",
   "language": "python",
   "name": "python3"
  },
  "language_info": {
   "codemirror_mode": {
    "name": "ipython",
    "version": 3
   },
   "file_extension": ".py",
   "mimetype": "text/x-python",
   "name": "python",
   "nbconvert_exporter": "python",
   "pygments_lexer": "ipython3",
   "version": "3.13.7"
  }
 },
 "nbformat": 4,
 "nbformat_minor": 5
}
