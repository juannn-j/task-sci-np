{
 "cells": [
  {
   "cell_type": "code",
   "execution_count": null,
   "id": "83ea30d9",
   "metadata": {},
   "outputs": [],
   "source": [
    "import numpy as np\n",
    "\n",
    "vector = np.array([1, 2, 3])\n",
    "matriz = np.array([[1, 2], [3, 4]])\n",
    "print('Vector:', vector)\n",
    "print('Matriz:\\n', matriz)\n",
    "\n",
    "# 2. Producto punto y norma de un vector\n",
    "otro_vector = np.array([4, 5, 6])\n",
    "producto_punto = np.dot(vector, otro_vector)\n",
    "norma = np.linalg.norm(vector)\n",
    "print('Producto punto:', producto_punto)\n",
    "print('Norma del vector:', norma)\n",
    "\n",
    "# 3. Resolución de un sistema de ecuaciones lineales\n",
    "# Sistema: 2x + y = 5, x - y = 1\n",
    "A = np.array([[2, 1], [1, -1]])\n",
    "b = np.array([5, 1])\n",
    "solucion = np.linalg.solve(A, b)\n",
    "print('Solución del sistema:', solucion)\n",
    "\n",
    "# 4. Cálculo de la media y mediana\n",
    "valores = np.array([10, 20, 30, 40, 50])\n",
    "media = np.mean(valores)\n",
    "mediana = np.median(valores)\n",
    "print('Media:', media)\n",
    "print('Mediana:', mediana)"
   ]
  }
 ],
 "metadata": {
  "language_info": {
   "name": "python"
  }
 },
 "nbformat": 4,
 "nbformat_minor": 5
}
